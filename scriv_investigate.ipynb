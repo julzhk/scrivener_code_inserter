{
 "cells": [
  {
   "cell_type": "code",
   "execution_count": 6,
   "metadata": {
    "collapsed": true,
    "pycharm": {
     "name": "#%%\n"
    }
   },
   "outputs": [],
   "source": [
    "\n",
    "def read_package():\n",
    "    fn = '/Users/julianharley/Documents/scrivener_projects/untitled folder.scriv'\n",
    "    for path, dirs, files in os.walk(f'{fn}/Files/Data/'):\n",
    "        for filename in files:\n",
    "            file_path = os.path.join(path, filename)\n",
    "            list_file(file_path)\n",
    "\n",
    "\n",
    "def list_file(fp):\n",
    "    print(fp)\n",
    "    print('=' * len(fp))\n",
    "    try:\n",
    "        replace_string_in_file(fp)\n",
    "        with open(fp) as f:\n",
    "            lines = f.readlines()\n",
    "            for line in lines:\n",
    "                print(line)\n",
    "    except:\n",
    "        pass\n",
    "\n",
    "\n",
    "def replace_string_in_file(fp):\n",
    "    with open(fp, 'rt') as f:\n",
    "        data = f.read()\n",
    "    data = data.replace('New', '<$Scr_Cs::0>code<!$Scr_Cs::0> ')\n",
    "    with open(fp, 'wt') as f:\n",
    "        f.write(data)\n"
   ]
  },
  {
   "cell_type": "code",
   "execution_count": 7,
   "outputs": [],
   "source": [
    "import os\n",
    "import xml.etree.ElementTree as ET\n",
    "\n",
    "fn = '/Users/julianharley/Projects/scrivener_inserter/untitled.scriv'\n",
    "\n",
    "\n",
    "# x = os.listdir(fn)  # returns list\n",
    "\n",
    "def read_package():\n",
    "    for path, dirs, files in os.walk(f'{fn}/Files/Data/'):\n",
    "        for filename in files:\n",
    "            file_path = os.path.join(path, filename)\n",
    "            list_file(file_path)\n",
    "\n",
    "\n",
    "def list_file(fp):\n",
    "    print(fp)\n",
    "    print('=' * len(fp))\n",
    "    try:\n",
    "        with open(fp) as f:\n",
    "            lines = f.readlines()\n",
    "            for line in lines:\n",
    "                print(line)\n",
    "    except:\n",
    "        pass\n"
   ],
   "metadata": {
    "collapsed": false,
    "pycharm": {
     "name": "#%%\n"
    }
   }
  },
  {
   "cell_type": "code",
   "execution_count": null,
   "outputs": [],
   "source": [],
   "metadata": {
    "collapsed": false,
    "pycharm": {
     "name": "#%%\n"
    }
   }
  },
  {
   "cell_type": "code",
   "execution_count": 47,
   "outputs": [
    {
     "data": {
      "text/plain": "'F363FCB8-7116-48AE-A1BF-33D2262CD671'"
     },
     "execution_count": 47,
     "metadata": {},
     "output_type": "execute_result"
    }
   ],
   "source": [
    "def get_code_block_id(style_name='Code Block'):\n",
    "    styles_path = f'{fn}/Files/styles.xml'\n",
    "    tree = ET.parse(styles_path)\n",
    "    root = tree.getroot()\n",
    "    return [style.attrib['ID'] for style in root.iter('Style') if style.attrib['Name'] == style_name][0]\n"
   ],
   "metadata": {
    "collapsed": false,
    "pycharm": {
     "name": "#%%\n"
    }
   }
  },
  {
   "cell_type": "code",
   "execution_count": 83,
   "outputs": [
    {
     "name": "stdout",
     "output_type": "stream",
     "text": [
      "159ED985-B48F-4C45-9397-2B9C8283CF09\n",
      "2A52E41C-C11E-4192-BC7C-84396D6BD17F\n"
     ]
    },
    {
     "data": {
      "text/plain": "['159ED985-B48F-4C45-9397-2B9C8283CF09',\n '2A52E41C-C11E-4192-BC7C-84396D6BD17F']"
     },
     "execution_count": 83,
     "metadata": {},
     "output_type": "execute_result"
    }
   ],
   "source": [
    "# get doc names:\n",
    "def get_doc_folder_names():\n",
    "    doc_folder = f'{fn}/Files/Data'\n",
    "    r = []\n",
    "    with os.scandir(doc_folder) as it:\n",
    "        for entry in it:\n",
    "            if entry.is_dir():\n",
    "                r.append(entry.name)\n",
    "    return r\n",
    "\n",
    "\n",
    "get_doc_folder_names()"
   ],
   "metadata": {
    "collapsed": false,
    "pycharm": {
     "name": "#%%\n"
    }
   }
  },
  {
   "cell_type": "code",
   "execution_count": 62,
   "outputs": [
    {
     "name": "stdout",
     "output_type": "stream",
     "text": [
      "Styles(styles=[Style(style_code='652D030B-03CB-41AE-9E3A-7A54C44645EB', style_name='Title'), Style(style_code='A29B3E1A-40E0-471E-B9B9-8C4ED7E036A0', style_name='Heading 1'), Style(style_code='1226C1DB-6280-40B3-8BEB-AB9C228FC9D7', style_name='Heading 2'), Style(style_code='D0DD1176-13FF-433A-8195-9BEEAE6286E0', style_name='Centered Text'), Style(style_code='CEFBBBCC-6DFF-4A62-9BC3-1698FF145168', style_name='Block Quote'), Style(style_code='6EBE0ECB-F18D-4ED9-95F8-EA1A09D7376E', style_name='Attribution'), Style(style_code='F363FCB8-7116-48AE-A1BF-33D2262CD671', style_name='Code Block'), Style(style_code='80BBBC58-541E-4CB3-B622-7C538B4D36AB', style_name='Verse'), Style(style_code='15AED48D-6EB1-428E-8434-EB6CB2A6D3A8', style_name='Code Span'), Style(style_code='0CF0E836-268C-4672-A978-31E9414BC2BC', style_name='Caption'), Style(style_code='DF8D61C6-4A89-4274-8A7A-4018F1F07D76', style_name='Emphasis')])\n"
     ]
    }
   ],
   "source": [
    "from dataclasses import dataclass, field\n",
    "\n",
    "\n",
    "@dataclass\n",
    "class Style:\n",
    "    style_code: str\n",
    "    style_name: str\n",
    "\n",
    "\n",
    "@dataclass\n",
    "class Styles:\n",
    "    styles: list[Style] = field(default_factory=list)\n",
    "\n",
    "    def populate_all(self):\n",
    "        styles_path = f'{fn}/Files/styles.xml'\n",
    "        tree = ET.parse(styles_path)\n",
    "        root = tree.getroot()\n",
    "        names_codes = [(style.attrib['Name'], style.attrib['ID']) for style in root.iter('Style')]\n",
    "        for name, code in names_codes:\n",
    "            self.styles.append(Style(style_name=name, style_code=code))\n",
    "\n",
    "    def get_code_from_name(self, name):\n",
    "        for style in self.styles:\n",
    "            if name == style.style_name:\n",
    "                return style.style_code\n",
    "\n",
    "\n",
    "s = Styles()\n",
    "\n",
    "print(s)\n",
    "\n"
   ],
   "metadata": {
    "collapsed": false,
    "pycharm": {
     "name": "#%%\n"
    }
   }
  },
  {
   "cell_type": "code",
   "execution_count": 77,
   "outputs": [],
   "source": [
    "\n",
    "@dataclass\n",
    "class Document:\n",
    "    \"\"\"Class for keeping track of a Scrivener Document folder.\"\"\"\n",
    "    styles_in_use: Styles = field(default_factory=list)\n",
    "    folder_label: str = ''\n",
    "\n",
    "    def __post_init__(self):\n",
    "        all_styles = Styles()\n",
    "        all_styles.populate_all()\n",
    "        code_block_code = all_styles.get_code_from_name('Code Block')\n",
    "\n",
    "\n"
   ],
   "metadata": {
    "collapsed": false,
    "pycharm": {
     "name": "#%%\n"
    }
   }
  },
  {
   "cell_type": "code",
   "execution_count": 87,
   "outputs": [
    {
     "name": "stdout",
     "output_type": "stream",
     "text": [
      "159ED985-B48F-4C45-9397-2B9C8283CF09\n",
      "2A52E41C-C11E-4192-BC7C-84396D6BD17F\n"
     ]
    },
    {
     "data": {
      "text/plain": "[Document(styles=[], folder_label='159ED985-B48F-4C45-9397-2B9C8283CF09'),\n Document(styles=[], folder_label='2A52E41C-C11E-4192-BC7C-84396D6BD17F')]"
     },
     "execution_count": 87,
     "metadata": {},
     "output_type": "execute_result"
    }
   ],
   "source": [
    "doc_names = get_doc_folder_names()\n",
    "project = []\n",
    "for doc in doc_names:\n",
    "    project.append(Document(folder_label=doc))\n",
    "\n",
    "\n"
   ],
   "metadata": {
    "collapsed": false,
    "pycharm": {
     "name": "#%%\n"
    }
   }
  },
  {
   "cell_type": "code",
   "execution_count": 91,
   "outputs": [
    {
     "name": "stdout",
     "output_type": "stream",
     "text": [
      "Project(documents=[Document(styles_in_use=[],\n",
      "                            folder_label='159ED985-B48F-4C45-9397-2B9C8283CF09'),\n",
      "                   Document(styles_in_use=[],\n",
      "                            folder_label='2A52E41C-C11E-4192-BC7C-84396D6BD17F')],\n",
      "        styles=[Style(style_code='652D030B-03CB-41AE-9E3A-7A54C44645EB',\n",
      "                      style_name='Title'),\n",
      "                Style(style_code='A29B3E1A-40E0-471E-B9B9-8C4ED7E036A0',\n",
      "                      style_name='Heading 1'),\n",
      "                Style(style_code='1226C1DB-6280-40B3-8BEB-AB9C228FC9D7',\n",
      "                      style_name='Heading 2'),\n",
      "                Style(style_code='D0DD1176-13FF-433A-8195-9BEEAE6286E0',\n",
      "                      style_name='Centered Text'),\n",
      "                Style(style_code='CEFBBBCC-6DFF-4A62-9BC3-1698FF145168',\n",
      "                      style_name='Block Quote'),\n",
      "                Style(style_code='6EBE0ECB-F18D-4ED9-95F8-EA1A09D7376E',\n",
      "                      style_name='Attribution'),\n",
      "                Style(style_code='F363FCB8-7116-48AE-A1BF-33D2262CD671',\n",
      "                      style_name='Code Block'),\n",
      "                Style(style_code='80BBBC58-541E-4CB3-B622-7C538B4D36AB',\n",
      "                      style_name='Verse'),\n",
      "                Style(style_code='15AED48D-6EB1-428E-8434-EB6CB2A6D3A8',\n",
      "                      style_name='Code Span'),\n",
      "                Style(style_code='0CF0E836-268C-4672-A978-31E9414BC2BC',\n",
      "                      style_name='Caption'),\n",
      "                Style(style_code='DF8D61C6-4A89-4274-8A7A-4018F1F07D76',\n",
      "                      style_name='Emphasis')])\n"
     ]
    }
   ],
   "source": [
    "@dataclass\n",
    "class Style:\n",
    "    style_code: str\n",
    "    style_name: str\n",
    "\n",
    "\n",
    "@dataclass\n",
    "class Document:\n",
    "    \"\"\"Class for keeping track of a Scrivener Document folder.\"\"\"\n",
    "    styles_in_use: Styles = field(default_factory=list)\n",
    "    folder_label: str = ''\n",
    "\n",
    "    def __post_init__(self):\n",
    "\n",
    "\n",
    "\n",
    "@dataclass\n",
    "class Project:\n",
    "    documents: list[Document] = field(default_factory=list)\n",
    "    styles: list[Style] = field(default_factory=list)\n",
    "\n",
    "    def populate_styles(self):\n",
    "        styles_path = f'{fn}/Files/styles.xml'\n",
    "        tree = ET.parse(styles_path)\n",
    "        root = tree.getroot()\n",
    "        names_codes = [(style.attrib['Name'], style.attrib['ID']) for style in root.iter('Style')]\n",
    "        for name, code in names_codes:\n",
    "            self.styles.append(Style(style_name=name, style_code=code))\n",
    "\n",
    "    def get_doc_folder_names(self):\n",
    "        doc_folder = f'{fn}/Files/Data'\n",
    "        with os.scandir(doc_folder) as it:\n",
    "            for entry in it:\n",
    "                if entry.is_dir():\n",
    "                    self.documents.append(Document(folder_label=entry.name))\n",
    "\n",
    "\n",
    "p = Project()\n",
    "p.populate_styles()\n",
    "p.get_doc_folder_names()\n",
    "pprint.pprint(p)\n"
   ],
   "metadata": {
    "collapsed": false,
    "pycharm": {
     "name": "#%%\n"
    }
   }
  }
 ],
 "metadata": {
  "kernelspec": {
   "display_name": "Python 3",
   "language": "python",
   "name": "python3"
  },
  "language_info": {
   "codemirror_mode": {
    "name": "ipython",
    "version": 2
   },
   "file_extension": ".py",
   "mimetype": "text/x-python",
   "name": "python",
   "nbconvert_exporter": "python",
   "pygments_lexer": "ipython2",
   "version": "2.7.6"
  }
 },
 "nbformat": 4,
 "nbformat_minor": 0
}